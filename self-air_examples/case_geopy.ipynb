{
 "cells": [
  {
   "cell_type": "code",
   "execution_count": 1,
   "metadata": {},
   "outputs": [],
   "source": [
    "import pandas as pd\n",
    "from geopy import Point, distance\n",
    "\n",
    "# Sources: https://geopandas.org/en/stable/gallery/create_geopandas_from_pandas.html\n",
    "# https://stackoverflow.com/questions/36696613/calculating-distance-between-multiple-sets-of-geo-coordinates-in-python"
   ]
  },
  {
   "cell_type": "code",
   "execution_count": 2,
   "metadata": {},
   "outputs": [],
   "source": [
    "points_pastizal  = [[42.310665, -6.207228], [42.30961,\t-6.201653], [42.310527,\t-6.20393]]"
   ]
  },
  {
   "cell_type": "code",
   "execution_count": 3,
   "metadata": {},
   "outputs": [],
   "source": [
    "coords = pd.DataFrame(\n",
    "    {\n",
    "        \"Punto\": [\"Punto1\", \"Punto2\", \"Punto3\"],\n",
    "        \"Latitude\": [42.310665, 42.30961, 42.310527],\n",
    "        \"Longitude\": [-6.207228, -6.201653, -6.20393],\n",
    "    }\n",
    ")"
   ]
  },
  {
   "cell_type": "code",
   "execution_count": 4,
   "metadata": {},
   "outputs": [],
   "source": [
    "def get_distances(coords: pd.DataFrame,\n",
    "                  col_lat='Latitude',\n",
    "                  col_lon='Longitude',\n",
    "                  point_obj=Point) -> pd.DataFrame:\n",
    "    traces = len(coords) -1\n",
    "    distances = [None] * (traces)\n",
    "    for i in range(traces):\n",
    "        start = point_obj((coords.iloc[i][col_lat], coords.iloc[i][col_lon]))\n",
    "        finish = point_obj((coords.iloc[i+1][col_lat], coords.iloc[i+1][col_lon]))\n",
    "        distances[i] = {\n",
    "            'start': start,\n",
    "            'finish': finish,\n",
    "            'path distance': distance.geodesic(start, finish),\n",
    "        }\n",
    "\n",
    "    return pd.DataFrame(distances)"
   ]
  },
  {
   "cell_type": "code",
   "execution_count": 5,
   "metadata": {},
   "outputs": [
    {
     "name": "stdout",
     "output_type": "stream",
     "text": [
      "-> coords DataFrame:\n",
      "     Punto   Latitude  Longitude\n",
      "0  Punto1  42.310665  -6.207228\n",
      "1  Punto2  42.309610  -6.201653\n",
      "2  Punto3  42.310527  -6.203930\n",
      "-------------------------------------------------------------------------------\n",
      "\n",
      "-> distances DataFrame:\n",
      "                                 start                              finish  \\\n",
      "0  42 18m 38.394s N, 6 12m 26.0208s W   42 18m 34.596s N, 6 12m 5.9508s W   \n",
      "1   42 18m 34.596s N, 6 12m 5.9508s W  42 18m 37.8972s N, 6 12m 14.148s W   \n",
      "\n",
      "            path distance         total distance  \n",
      "0   0.4743471438246015 km  0.4743471438246015 km  \n",
      "1  0.21358586773159874 km  0.6879330115562002 km  \n",
      "-------------------------------------------------------------------------------\n",
      "\n",
      "-> distances DataFrame using tuples:\n",
      "                     start                 finish           path distance\n",
      "0  (42.310665, -6.207228)  (42.30961, -6.201653)   0.4743471438246015 km\n",
      "1   (42.30961, -6.201653)  (42.310527, -6.20393)  0.21358586773159874 km\n",
      "-------------------------------------------------------------------------------\n",
      "\n"
     ]
    }
   ],
   "source": [
    "\n",
    "print('-> coords DataFrame:\\n', coords)\n",
    "print('-'*79, end='\\n\\n')\n",
    "\n",
    "distances = get_distances(coords)\n",
    "distances['total distance'] = distances['path distance'].cumsum()\n",
    "print('-> distances DataFrame:\\n', distances)\n",
    "print('-'*79, end='\\n\\n')\n",
    "\n",
    "# Or if you want to use tuple for start/finish coordinates:\n",
    "print('-> distances DataFrame using tuples:\\n', get_distances(coords, point_obj=tuple))\n",
    "print('-'*79, end='\\n\\n')"
   ]
  },
  {
   "cell_type": "code",
   "execution_count": 6,
   "metadata": {},
   "outputs": [],
   "source": [
    "# import geopy.distance\n",
    "\n",
    "# df['dist_origin_dest'] = list(map(geopy.distance.geodesic, df.loc[:, [\"lat1\", \"lon1\"]].values, df.loc[:, [\"lat2\", \"lon2\"]].values))"
   ]
  },
  {
   "cell_type": "code",
   "execution_count": 7,
   "metadata": {},
   "outputs": [],
   "source": [
    "\n",
    "def get_distances(coords: pd.DataFrame,\n",
    "              col_lat='Latitude',\n",
    "              col_lon='Longitude',\n",
    "              point_obj=Point) -> pd.DataFrame:\n",
    "    traces = len(coords) -1\n",
    "    distances = [None] * (traces)\n",
    "    for i in range(traces):\n",
    "        start = point_obj((coords.iloc[i][col_lat], coords.iloc[i][col_lon]))\n",
    "        finish = point_obj((coords.iloc[i+1][col_lat], coords.iloc[i+1][col_lon]))\n",
    "        distances[i] = {\n",
    "            'start': start,\n",
    "            'finish': finish,\n",
    "            'path distance': distance.geodesic(start, finish),\n",
    "        }\n",
    "    output = pd.DataFrame(distances)\n",
    "    output.to_csv('geopy_output.csv')\n",
    "    return output"
   ]
  }
 ],
 "metadata": {
  "kernelspec": {
   "display_name": "Python 3",
   "language": "python",
   "name": "python3"
  },
  "language_info": {
   "codemirror_mode": {
    "name": "ipython",
    "version": 3
   },
   "file_extension": ".py",
   "mimetype": "text/x-python",
   "name": "python",
   "nbconvert_exporter": "python",
   "pygments_lexer": "ipython3",
   "version": "3.10.12"
  }
 },
 "nbformat": 4,
 "nbformat_minor": 2
}
